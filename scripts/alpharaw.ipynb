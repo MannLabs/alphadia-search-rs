{
 "cells": [
  {
   "cell_type": "code",
   "execution_count": 1,
   "metadata": {},
   "outputs": [],
   "source": [
    "%reload_ext autoreload\n",
    "%autoreload 2\n",
    "\n",
    "import numpy as np\n",
    "from alpharaw.thermo import ThermoRawData\n",
    "from alpharaw.ms_data_base import MSData_Base"
   ]
  },
  {
   "cell_type": "code",
   "execution_count": 2,
   "metadata": {},
   "outputs": [],
   "source": [
    "from alphabase.spectral_library.base import SpecLibBase\n",
    "from alphabase.spectral_library.flat import SpecLibFlat"
   ]
  },
  {
   "cell_type": "code",
   "execution_count": 3,
   "metadata": {},
   "outputs": [],
   "source": [
    "\n",
    "\n",
    "speclib = SpecLibBase()\n",
    "speclib.load_hdf('/Users/georgwallmann/Documents/data/alphadia_transfer_learning/2024_10_07_zenotof/transfer_pass/speclib.hdf')\n",
    "\n",
    "speclib = SpecLibBase()\n",
    "speclib.load_hdf('/Users/georgwallmann/Documents/data/alphadia_transfer_learning/2024_10_07_zenotof/transfer_pass/speclib.hdf')\n",
    "\n",
    "speclib_flat = SpecLibFlat()\n",
    "speclib_flat.parse_base_library(speclib)\n",
    "\n",
    "\n"
   ]
  },
  {
   "cell_type": "code",
   "execution_count": 4,
   "metadata": {},
   "outputs": [],
   "source": [
    "import alpha_rs\n",
    "\n",
    "lib = alpha_rs.SpecLibFlat.from_arrays(\n",
    "    speclib_flat.precursor_df['precursor_mz'].values.astype(np.float32),\n",
    "    speclib_flat.precursor_df['flat_frag_start_idx'].values,\n",
    "    speclib_flat.precursor_df['flat_frag_stop_idx'].values,\n",
    "    speclib_flat.fragment_df['mz'].values.astype(np.float32),\n",
    "    speclib_flat.fragment_df['intensity'].values.astype(np.float32)\n",
    ")"
   ]
  },
  {
   "cell_type": "code",
   "execution_count": null,
   "metadata": {},
   "outputs": [
    {
     "data": {
      "text/plain": [
       "64890"
      ]
     },
     "execution_count": 5,
     "metadata": {},
     "output_type": "execute_result"
    }
   ],
   "source": [
    "lib.num_precursors"
   ]
  },
  {
   "cell_type": "code",
   "execution_count": 6,
   "metadata": {},
   "outputs": [],
   "source": [
    "from alpharaw.ms_data_base import MSData_Base\n",
    "\n",
    "dia_data = MSData_Base()\n",
    "dia_data.load_hdf('/Users/georgwallmann/Documents/data/alphadia_tutorials/libfree-gui/raw_data/20231024_OA3_TiHe_ADIAMA_HeLa_200ng_Evo01_21min_F-40_iO_before_03.hdf')\n"
   ]
  },
  {
   "cell_type": "code",
   "execution_count": 7,
   "metadata": {},
   "outputs": [
    {
     "name": "stdout",
     "output_type": "stream",
     "text": [
      "301\n"
     ]
    }
   ],
   "source": [
    "cycle_len = 301\n",
    "delta_scan_idx = np.tile(np.arange(cycle_len), int(len(dia_data.spectrum_df) / cycle_len + 1 ))\n",
    "cycle_idx = np.repeat(np.arange(int(len(dia_data.spectrum_df) / cycle_len + 1 )), cycle_len)\n",
    "\n",
    "dia_data.spectrum_df['delta_scan_idx'] = delta_scan_idx[:len(dia_data.spectrum_df)]\n",
    "dia_data.spectrum_df['cycle_idx'] = cycle_idx[:len(dia_data.spectrum_df)]\n",
    "print(cycle_len)"
   ]
  },
  {
   "cell_type": "code",
   "execution_count": 8,
   "metadata": {},
   "outputs": [
    {
     "data": {
      "text/html": [
       "<div>\n",
       "<style scoped>\n",
       "    .dataframe tbody tr th:only-of-type {\n",
       "        vertical-align: middle;\n",
       "    }\n",
       "\n",
       "    .dataframe tbody tr th {\n",
       "        vertical-align: top;\n",
       "    }\n",
       "\n",
       "    .dataframe thead th {\n",
       "        text-align: right;\n",
       "    }\n",
       "</style>\n",
       "<table border=\"1\" class=\"dataframe\">\n",
       "  <thead>\n",
       "    <tr style=\"text-align: right;\">\n",
       "      <th></th>\n",
       "      <th>isolation_lower_mz</th>\n",
       "      <th>isolation_upper_mz</th>\n",
       "      <th>ms_level</th>\n",
       "      <th>nce</th>\n",
       "      <th>peak_start_idx</th>\n",
       "      <th>peak_stop_idx</th>\n",
       "      <th>precursor_charge</th>\n",
       "      <th>precursor_mz</th>\n",
       "      <th>rt</th>\n",
       "      <th>spec_idx</th>\n",
       "      <th>delta_scan_idx</th>\n",
       "      <th>cycle_idx</th>\n",
       "    </tr>\n",
       "  </thead>\n",
       "  <tbody>\n",
       "    <tr>\n",
       "      <th>0</th>\n",
       "      <td>-1.000000</td>\n",
       "      <td>-1.000000</td>\n",
       "      <td>1</td>\n",
       "      <td>0.0</td>\n",
       "      <td>0</td>\n",
       "      <td>31</td>\n",
       "      <td>0</td>\n",
       "      <td>-1.00000</td>\n",
       "      <td>0.000000</td>\n",
       "      <td>0</td>\n",
       "      <td>0</td>\n",
       "      <td>0</td>\n",
       "    </tr>\n",
       "    <tr>\n",
       "      <th>1</th>\n",
       "      <td>380.422795</td>\n",
       "      <td>382.423705</td>\n",
       "      <td>2</td>\n",
       "      <td>25.0</td>\n",
       "      <td>31</td>\n",
       "      <td>33</td>\n",
       "      <td>0</td>\n",
       "      <td>381.42325</td>\n",
       "      <td>0.000451</td>\n",
       "      <td>1</td>\n",
       "      <td>1</td>\n",
       "      <td>0</td>\n",
       "    </tr>\n",
       "    <tr>\n",
       "      <th>2</th>\n",
       "      <td>382.423705</td>\n",
       "      <td>384.424615</td>\n",
       "      <td>2</td>\n",
       "      <td>25.0</td>\n",
       "      <td>33</td>\n",
       "      <td>33</td>\n",
       "      <td>0</td>\n",
       "      <td>383.42416</td>\n",
       "      <td>0.000542</td>\n",
       "      <td>2</td>\n",
       "      <td>2</td>\n",
       "      <td>0</td>\n",
       "    </tr>\n",
       "    <tr>\n",
       "      <th>3</th>\n",
       "      <td>386.425535</td>\n",
       "      <td>388.426445</td>\n",
       "      <td>2</td>\n",
       "      <td>25.0</td>\n",
       "      <td>33</td>\n",
       "      <td>33</td>\n",
       "      <td>0</td>\n",
       "      <td>387.42599</td>\n",
       "      <td>0.000676</td>\n",
       "      <td>3</td>\n",
       "      <td>3</td>\n",
       "      <td>0</td>\n",
       "    </tr>\n",
       "    <tr>\n",
       "      <th>4</th>\n",
       "      <td>390.427345</td>\n",
       "      <td>392.428255</td>\n",
       "      <td>2</td>\n",
       "      <td>25.0</td>\n",
       "      <td>33</td>\n",
       "      <td>33</td>\n",
       "      <td>0</td>\n",
       "      <td>391.42780</td>\n",
       "      <td>0.000756</td>\n",
       "      <td>4</td>\n",
       "      <td>4</td>\n",
       "      <td>0</td>\n",
       "    </tr>\n",
       "    <tr>\n",
       "      <th>...</th>\n",
       "      <td>...</td>\n",
       "      <td>...</td>\n",
       "      <td>...</td>\n",
       "      <td>...</td>\n",
       "      <td>...</td>\n",
       "      <td>...</td>\n",
       "      <td>...</td>\n",
       "      <td>...</td>\n",
       "      <td>...</td>\n",
       "      <td>...</td>\n",
       "      <td>...</td>\n",
       "      <td>...</td>\n",
       "    </tr>\n",
       "    <tr>\n",
       "      <th>242553</th>\n",
       "      <td>788.608375</td>\n",
       "      <td>790.609285</td>\n",
       "      <td>2</td>\n",
       "      <td>25.0</td>\n",
       "      <td>155906351</td>\n",
       "      <td>155906392</td>\n",
       "      <td>0</td>\n",
       "      <td>789.60883</td>\n",
       "      <td>20.887091</td>\n",
       "      <td>242553</td>\n",
       "      <td>248</td>\n",
       "      <td>805</td>\n",
       "    </tr>\n",
       "    <tr>\n",
       "      <th>242554</th>\n",
       "      <td>790.609225</td>\n",
       "      <td>792.610135</td>\n",
       "      <td>2</td>\n",
       "      <td>25.0</td>\n",
       "      <td>155906392</td>\n",
       "      <td>155906415</td>\n",
       "      <td>0</td>\n",
       "      <td>791.60968</td>\n",
       "      <td>20.887179</td>\n",
       "      <td>242554</td>\n",
       "      <td>249</td>\n",
       "      <td>805</td>\n",
       "    </tr>\n",
       "    <tr>\n",
       "      <th>242555</th>\n",
       "      <td>794.611055</td>\n",
       "      <td>796.611965</td>\n",
       "      <td>2</td>\n",
       "      <td>25.0</td>\n",
       "      <td>155906415</td>\n",
       "      <td>155906440</td>\n",
       "      <td>0</td>\n",
       "      <td>795.61151</td>\n",
       "      <td>20.887260</td>\n",
       "      <td>242555</td>\n",
       "      <td>250</td>\n",
       "      <td>805</td>\n",
       "    </tr>\n",
       "    <tr>\n",
       "      <th>242556</th>\n",
       "      <td>798.612885</td>\n",
       "      <td>800.613795</td>\n",
       "      <td>2</td>\n",
       "      <td>25.0</td>\n",
       "      <td>155906440</td>\n",
       "      <td>155906465</td>\n",
       "      <td>0</td>\n",
       "      <td>799.61334</td>\n",
       "      <td>20.887339</td>\n",
       "      <td>242556</td>\n",
       "      <td>251</td>\n",
       "      <td>805</td>\n",
       "    </tr>\n",
       "    <tr>\n",
       "      <th>242557</th>\n",
       "      <td>800.613805</td>\n",
       "      <td>802.614715</td>\n",
       "      <td>2</td>\n",
       "      <td>25.0</td>\n",
       "      <td>155906465</td>\n",
       "      <td>155906491</td>\n",
       "      <td>0</td>\n",
       "      <td>801.61426</td>\n",
       "      <td>20.887423</td>\n",
       "      <td>242557</td>\n",
       "      <td>252</td>\n",
       "      <td>805</td>\n",
       "    </tr>\n",
       "  </tbody>\n",
       "</table>\n",
       "<p>242558 rows × 12 columns</p>\n",
       "</div>"
      ],
      "text/plain": [
       "        isolation_lower_mz  isolation_upper_mz  ms_level   nce  \\\n",
       "0                -1.000000           -1.000000         1   0.0   \n",
       "1               380.422795          382.423705         2  25.0   \n",
       "2               382.423705          384.424615         2  25.0   \n",
       "3               386.425535          388.426445         2  25.0   \n",
       "4               390.427345          392.428255         2  25.0   \n",
       "...                    ...                 ...       ...   ...   \n",
       "242553          788.608375          790.609285         2  25.0   \n",
       "242554          790.609225          792.610135         2  25.0   \n",
       "242555          794.611055          796.611965         2  25.0   \n",
       "242556          798.612885          800.613795         2  25.0   \n",
       "242557          800.613805          802.614715         2  25.0   \n",
       "\n",
       "        peak_start_idx  peak_stop_idx  precursor_charge  precursor_mz  \\\n",
       "0                    0             31                 0      -1.00000   \n",
       "1                   31             33                 0     381.42325   \n",
       "2                   33             33                 0     383.42416   \n",
       "3                   33             33                 0     387.42599   \n",
       "4                   33             33                 0     391.42780   \n",
       "...                ...            ...               ...           ...   \n",
       "242553       155906351      155906392                 0     789.60883   \n",
       "242554       155906392      155906415                 0     791.60968   \n",
       "242555       155906415      155906440                 0     795.61151   \n",
       "242556       155906440      155906465                 0     799.61334   \n",
       "242557       155906465      155906491                 0     801.61426   \n",
       "\n",
       "               rt  spec_idx  delta_scan_idx  cycle_idx  \n",
       "0        0.000000         0               0          0  \n",
       "1        0.000451         1               1          0  \n",
       "2        0.000542         2               2          0  \n",
       "3        0.000676         3               3          0  \n",
       "4        0.000756         4               4          0  \n",
       "...           ...       ...             ...        ...  \n",
       "242553  20.887091    242553             248        805  \n",
       "242554  20.887179    242554             249        805  \n",
       "242555  20.887260    242555             250        805  \n",
       "242556  20.887339    242556             251        805  \n",
       "242557  20.887423    242557             252        805  \n",
       "\n",
       "[242558 rows x 12 columns]"
      ]
     },
     "execution_count": 8,
     "metadata": {},
     "output_type": "execute_result"
    }
   ],
   "source": [
    "dia_data.spectrum_df"
   ]
  },
  {
   "cell_type": "code",
   "execution_count": 9,
   "metadata": {},
   "outputs": [],
   "source": [
    "\n",
    "import alpha_rs\n",
    "\n",
    "rs_data = alpha_rs.test_xic_index(\n",
    "    dia_data.spectrum_df['delta_scan_idx'].values,\n",
    "    dia_data.spectrum_df['isolation_lower_mz'].values.astype(np.float32),\n",
    "    dia_data.spectrum_df['isolation_upper_mz'].values.astype(np.float32),\n",
    "    dia_data.spectrum_df['peak_start_idx'].values,\n",
    "    dia_data.spectrum_df['peak_stop_idx'].values,\n",
    "    dia_data.spectrum_df['cycle_idx'].values,\n",
    "    dia_data.spectrum_df['rt'].values.astype(np.float32),\n",
    "    dia_data.peak_df['mz'].values.astype(np.float32),\n",
    "    dia_data.peak_df['intensity'].values.astype(np.float32)\n",
    ")"
   ]
  },
  {
   "cell_type": "code",
   "execution_count": 12,
   "metadata": {},
   "outputs": [
    {
     "name": "stdout",
     "output_type": "stream",
     "text": [
      "Precursors per second: 52520.17\n"
     ]
    }
   ],
   "source": [
    "mass_tolerance = 15\n",
    "\n",
    "rs_data.search(\n",
    "    lib,\n",
    "    mass_tolerance\n",
    ")\n"
   ]
  },
  {
   "cell_type": "code",
   "execution_count": 11,
   "metadata": {},
   "outputs": [],
   "source": [
    "path = '/Users/georgwallmann/Documents/data/alpha-rs/dense_xic.npz'"
   ]
  },
  {
   "cell_type": "code",
   "execution_count": 12,
   "metadata": {},
   "outputs": [
    {
     "data": {
      "text/plain": [
       "(7, 806)"
      ]
     },
     "execution_count": 12,
     "metadata": {},
     "output_type": "execute_result"
    }
   ],
   "source": [
    "array = np.load(path)['dense_xic']\n",
    "array.shape"
   ]
  },
  {
   "cell_type": "code",
   "execution_count": 16,
   "metadata": {},
   "outputs": [
    {
     "data": {
      "image/png": "[encoded data removed]",
      "text/plain": [
       "<Figure size 1000x500 with 1 Axes>"
      ]
     },
     "metadata": {},
     "output_type": "display_data"
    }
   ],
   "source": [
    "from matplotlib import pyplot as plt\n",
    "fig, ax = plt.subplots(figsize=(10, 5))\n",
    "for i in range(array.shape[0]):\n",
    "    ax.plot(array[i,230:300])\n",
    "plt.show()\n"
   ]
  },
  {
   "cell_type": "code",
   "execution_count": 10,
   "metadata": {},
   "outputs": [
    {
     "data": {
      "text/html": [
       "<div>\n",
       "<style scoped>\n",
       "    .dataframe tbody tr th:only-of-type {\n",
       "        vertical-align: middle;\n",
       "    }\n",
       "\n",
       "    .dataframe tbody tr th {\n",
       "        vertical-align: top;\n",
       "    }\n",
       "\n",
       "    .dataframe thead th {\n",
       "        text-align: right;\n",
       "    }\n",
       "</style>\n",
       "<table border=\"1\" class=\"dataframe\">\n",
       "  <thead>\n",
       "    <tr style=\"text-align: right;\">\n",
       "      <th></th>\n",
       "      <th>intensity</th>\n",
       "      <th>mz</th>\n",
       "    </tr>\n",
       "  </thead>\n",
       "  <tbody>\n",
       "    <tr>\n",
       "      <th>0</th>\n",
       "      <td>7152.893066</td>\n",
       "      <td>413.284882</td>\n",
       "    </tr>\n",
       "    <tr>\n",
       "      <th>1</th>\n",
       "      <td>7339.181641</td>\n",
       "      <td>461.691620</td>\n",
       "    </tr>\n",
       "    <tr>\n",
       "      <th>2</th>\n",
       "      <td>8405.365234</td>\n",
       "      <td>479.127350</td>\n",
       "    </tr>\n",
       "    <tr>\n",
       "      <th>3</th>\n",
       "      <td>7875.626953</td>\n",
       "      <td>486.764893</td>\n",
       "    </tr>\n",
       "    <tr>\n",
       "      <th>4</th>\n",
       "      <td>7765.384766</td>\n",
       "      <td>495.953583</td>\n",
       "    </tr>\n",
       "    <tr>\n",
       "      <th>...</th>\n",
       "      <td>...</td>\n",
       "      <td>...</td>\n",
       "    </tr>\n",
       "    <tr>\n",
       "      <th>155906486</th>\n",
       "      <td>347.197144</td>\n",
       "      <td>867.576721</td>\n",
       "    </tr>\n",
       "    <tr>\n",
       "      <th>155906487</th>\n",
       "      <td>249.008377</td>\n",
       "      <td>875.574829</td>\n",
       "    </tr>\n",
       "    <tr>\n",
       "      <th>155906488</th>\n",
       "      <td>388.607117</td>\n",
       "      <td>1288.736450</td>\n",
       "    </tr>\n",
       "    <tr>\n",
       "      <th>155906489</th>\n",
       "      <td>181.067413</td>\n",
       "      <td>1454.766968</td>\n",
       "    </tr>\n",
       "    <tr>\n",
       "      <th>155906490</th>\n",
       "      <td>1636.907471</td>\n",
       "      <td>1561.648071</td>\n",
       "    </tr>\n",
       "  </tbody>\n",
       "</table>\n",
       "<p>155906491 rows × 2 columns</p>\n",
       "</div>"
      ],
      "text/plain": [
       "             intensity           mz\n",
       "0          7152.893066   413.284882\n",
       "1          7339.181641   461.691620\n",
       "2          8405.365234   479.127350\n",
       "3          7875.626953   486.764893\n",
       "4          7765.384766   495.953583\n",
       "...                ...          ...\n",
       "155906486   347.197144   867.576721\n",
       "155906487   249.008377   875.574829\n",
       "155906488   388.607117  1288.736450\n",
       "155906489   181.067413  1454.766968\n",
       "155906490  1636.907471  1561.648071\n",
       "\n",
       "[155906491 rows x 2 columns]"
      ]
     },
     "execution_count": 10,
     "metadata": {},
     "output_type": "execute_result"
    }
   ],
   "source": [
    "dia_data.peak_df"
   ]
  },
  {
   "cell_type": "code",
   "execution_count": 14,
   "metadata": {},
   "outputs": [
    {
     "data": {
      "text/plain": [
       "[<matplotlib.lines.Line2D at 0x2c7ba9550>]"
      ]
     },
     "execution_count": 14,
     "metadata": {},
     "output_type": "execute_result"
    },
    {
     "data": {
      "image/png": "[encoded data removed]",
      "text/plain": [
       "<Figure size 640x480 with 1 Axes>"
      ]
     },
     "metadata": {},
     "output_type": "display_data"
    }
   ],
   "source": [
    "import matplotlib.pyplot as plt\n",
    "\n",
    "plt.plot(hist)"
   ]
  },
  {
   "cell_type": "code",
   "execution_count": null,
   "metadata": {},
   "outputs": [],
   "source": []
  }
 ],
 "metadata": {
  "kernelspec": {
   "display_name": "alpha-rs",
   "language": "python",
   "name": "python3"
  },
  "language_info": {
   "codemirror_mode": {
    "name": "ipython",
    "version": 3
   },
   "file_extension": ".py",
   "mimetype": "text/x-python",
   "name": "python",
   "nbconvert_exporter": "python",
   "pygments_lexer": "ipython3",
   "version": "3.11.11"
  }
 },
 "nbformat": 4,
 "nbformat_minor": 2
}
