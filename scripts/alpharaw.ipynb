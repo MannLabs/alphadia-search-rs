{
 "cells": [
  {
   "cell_type": "code",
   "execution_count": 35,
   "metadata": {},
   "outputs": [],
   "source": [
    "%reload_ext autoreload\n",
    "%autoreload 2\n",
    "\n",
    "import numpy as np\n",
    "from alpharaw.thermo import ThermoRawData\n",
    "from alpharaw.ms_data_base import MSData_Base"
   ]
  },
  {
   "cell_type": "code",
   "execution_count": 2,
   "metadata": {},
   "outputs": [],
   "source": [
    "from alphabase.spectral_library.base import SpecLibBase\n",
    "from alphabase.spectral_library.flat import SpecLibFlat"
   ]
  },
  {
   "cell_type": "code",
   "execution_count": 26,
   "metadata": {},
   "outputs": [],
   "source": [
    "\n",
    "\n",
    "speclib = SpecLibBase()\n",
    "speclib.load_hdf('/Users/georgwallmann/Documents/data/alphadia_transfer_learning/2024_10_07_zenotof/transfer_pass/speclib.hdf')\n",
    "#speclib.load_hdf('/Users/georgwallmann/Documents/data/alphadia_performance_tests/libraries/astral/hela_hybrid.hdf')\n",
    "\n",
    "speclib_flat = SpecLibFlat()\n",
    "speclib_flat.parse_base_library(speclib)\n",
    "\n",
    "\n"
   ]
  },
  {
   "cell_type": "code",
   "execution_count": null,
   "metadata": {},
   "outputs": [],
   "source": [
    "import os\n",
    "\n",
    "tmp_folder = \"/Users/georgwallmann/Documents/data/alpha-rs\""
   ]
  },
  {
   "cell_type": "code",
   "execution_count": 33,
   "metadata": {},
   "outputs": [],
   "source": [
    "speclib_flat.precursor_df.to_parquet(os.path.join(tmp_folder, 'precursor_df.parquet'))\n",
    "speclib_flat.fragment_df.to_parquet(os.path.join(tmp_folder, 'fragment_df.parquet'))\n"
   ]
  },
  {
   "cell_type": "code",
   "execution_count": 27,
   "metadata": {},
   "outputs": [],
   "source": [
    "import alpha_rs\n",
    "\n",
    "lib = alpha_rs.SpecLibFlat.from_arrays(\n",
    "    speclib_flat.precursor_df['precursor_mz'].values.astype(np.float32),\n",
    "    speclib_flat.precursor_df['flat_frag_start_idx'].values,\n",
    "    speclib_flat.precursor_df['flat_frag_stop_idx'].values,\n",
    "    speclib_flat.fragment_df['mz'].values.astype(np.float32),\n",
    "    speclib_flat.fragment_df['intensity'].values.astype(np.float32)\n",
    ")"
   ]
  },
  {
   "cell_type": "code",
   "execution_count": 28,
   "metadata": {},
   "outputs": [
    {
     "data": {
      "text/plain": [
       "3689985"
      ]
     },
     "execution_count": 28,
     "metadata": {},
     "output_type": "execute_result"
    }
   ],
   "source": [
    "lib.num_precursors"
   ]
  },
  {
   "cell_type": "code",
   "execution_count": 36,
   "metadata": {},
   "outputs": [
    {
     "ename": "AttributeError",
     "evalue": "property 'name' of 'HDF_Dataset' object has no setter",
     "output_type": "error",
     "traceback": [
      "\u001b[31m---------------------------------------------------------------------------\u001b[39m",
      "\u001b[31mAttributeError\u001b[39m                            Traceback (most recent call last)",
      "\u001b[36mCell\u001b[39m\u001b[36m \u001b[39m\u001b[32mIn[36]\u001b[39m\u001b[32m, line 4\u001b[39m\n\u001b[32m      1\u001b[39m \u001b[38;5;28;01mfrom\u001b[39;00m\u001b[38;5;250m \u001b[39m\u001b[34;01malpharaw\u001b[39;00m\u001b[34;01m.\u001b[39;00m\u001b[34;01mms_data_base\u001b[39;00m\u001b[38;5;250m \u001b[39m\u001b[38;5;28;01mimport\u001b[39;00m MSData_Base\n\u001b[32m      3\u001b[39m dia_data = MSData_Base()\n\u001b[32m----> \u001b[39m\u001b[32m4\u001b[39m \u001b[43mdia_data\u001b[49m\u001b[43m.\u001b[49m\u001b[43mload_hdf\u001b[49m\u001b[43m(\u001b[49m\u001b[33;43m'\u001b[39;49m\u001b[33;43m/Users/georgwallmann/Documents/data/alphadia/20205_05_04_chiron/raw_data/sciex/2025031_Evo012_32p5min_Whisper40_Elite.hdf\u001b[39;49m\u001b[33;43m'\u001b[39;49m\u001b[43m)\u001b[49m\n",
      "\u001b[36mFile \u001b[39m\u001b[32m~/Documents/git/alpharaw/alpharaw/ms_data_base.py:238\u001b[39m, in \u001b[36mMSData_Base.load_hdf\u001b[39m\u001b[34m(self, hdf_file_path)\u001b[39m\n\u001b[32m    229\u001b[39m \u001b[38;5;28;01mdef\u001b[39;00m\u001b[38;5;250m \u001b[39m\u001b[34mload_hdf\u001b[39m(\u001b[38;5;28mself\u001b[39m, hdf_file_path: \u001b[38;5;28mstr\u001b[39m):\n\u001b[32m    230\u001b[39m \u001b[38;5;250m    \u001b[39m\u001b[33;03m\"\"\"\u001b[39;00m\n\u001b[32m    231\u001b[39m \u001b[33;03m    Load data from HDF5 file.\u001b[39;00m\n\u001b[32m    232\u001b[39m \n\u001b[32m   (...)\u001b[39m\u001b[32m    236\u001b[39m \u001b[33;03m        Absolute or relative path of HDF5 file.\u001b[39;00m\n\u001b[32m    237\u001b[39m \u001b[33;03m    \"\"\"\u001b[39;00m\n\u001b[32m--> \u001b[39m\u001b[32m238\u001b[39m     hdf = \u001b[43mHDF_File\u001b[49m\u001b[43m(\u001b[49m\n\u001b[32m    239\u001b[39m \u001b[43m        \u001b[49m\u001b[43mhdf_file_path\u001b[49m\u001b[43m,\u001b[49m\u001b[43m \u001b[49m\u001b[43mread_only\u001b[49m\u001b[43m=\u001b[49m\u001b[38;5;28;43;01mTrue\u001b[39;49;00m\u001b[43m,\u001b[49m\u001b[43m \u001b[49m\u001b[43mtruncate\u001b[49m\u001b[43m=\u001b[49m\u001b[38;5;28;43;01mFalse\u001b[39;49;00m\u001b[43m,\u001b[49m\u001b[43m \u001b[49m\u001b[43mdelete_existing\u001b[49m\u001b[43m=\u001b[49m\u001b[38;5;28;43;01mFalse\u001b[39;49;00m\n\u001b[32m    240\u001b[39m \u001b[43m    \u001b[49m\u001b[43m)\u001b[49m\n\u001b[32m    242\u001b[39m     \u001b[38;5;28mself\u001b[39m.spectrum_df = hdf.ms_data.spectrum_df.values\n\u001b[32m    243\u001b[39m     \u001b[38;5;28mself\u001b[39m.peak_df = hdf.ms_data.peak_df.values\n",
      "\u001b[36mFile \u001b[39m\u001b[32m~/miniconda3/envs/alpha-rs/lib/python3.11/site-packages/alphabase/io/hdf.py:516\u001b[39m, in \u001b[36mHDF_File.__init__\u001b[39m\u001b[34m(self, file_name, read_only, truncate, delete_existing)\u001b[39m\n\u001b[32m    513\u001b[39m \u001b[38;5;28;01mwith\u001b[39;00m h5py.File(file_name, mode):\n\u001b[32m    514\u001b[39m     \u001b[38;5;28;01mpass\u001b[39;00m\n\u001b[32m--> \u001b[39m\u001b[32m516\u001b[39m \u001b[38;5;28;43msuper\u001b[39;49m\u001b[43m(\u001b[49m\u001b[43m)\u001b[49m\u001b[43m.\u001b[49m\u001b[34;43m__init__\u001b[39;49m\u001b[43m(\u001b[49m\n\u001b[32m    517\u001b[39m \u001b[43m    \u001b[49m\u001b[43mfile_name\u001b[49m\u001b[43m=\u001b[49m\u001b[43mfile_name\u001b[49m\u001b[43m,\u001b[49m\n\u001b[32m    518\u001b[39m \u001b[43m    \u001b[49m\u001b[43mname\u001b[49m\u001b[43m=\u001b[49m\u001b[33;43m\"\u001b[39;49m\u001b[33;43m/\u001b[39;49m\u001b[33;43m\"\u001b[39;49m\u001b[43m,\u001b[49m\n\u001b[32m    519\u001b[39m \u001b[43m    \u001b[49m\u001b[43mread_only\u001b[49m\u001b[43m=\u001b[49m\u001b[43mread_only\u001b[49m\u001b[43m,\u001b[49m\n\u001b[32m    520\u001b[39m \u001b[43m    \u001b[49m\u001b[43mtruncate\u001b[49m\u001b[43m=\u001b[49m\u001b[43mtruncate\u001b[49m\u001b[43m,\u001b[49m\n\u001b[32m    521\u001b[39m \u001b[43m\u001b[49m\u001b[43m)\u001b[49m\n",
      "\u001b[36mFile \u001b[39m\u001b[32m~/miniconda3/envs/alpha-rs/lib/python3.11/site-packages/alphabase/io/hdf.py:125\u001b[39m, in \u001b[36mHDF_Group.__init__\u001b[39m\u001b[34m(self, file_name, name, read_only, truncate)\u001b[39m\n\u001b[32m    123\u001b[39m     \u001b[38;5;28mobject\u001b[39m.\u001b[34m__setattr__\u001b[39m(\u001b[38;5;28mself\u001b[39m, group_name, group)\n\u001b[32m    124\u001b[39m \u001b[38;5;28;01mfor\u001b[39;00m dataframe_name \u001b[38;5;129;01min\u001b[39;00m \u001b[38;5;28mself\u001b[39m.dataframe_names:\n\u001b[32m--> \u001b[39m\u001b[32m125\u001b[39m     dataframe = \u001b[43mHDF_Dataframe\u001b[49m\u001b[43m(\u001b[49m\n\u001b[32m    126\u001b[39m \u001b[43m        \u001b[49m\u001b[43mfile_name\u001b[49m\u001b[43m=\u001b[49m\u001b[38;5;28;43mself\u001b[39;49m\u001b[43m.\u001b[49m\u001b[43mfile_name\u001b[49m\u001b[43m,\u001b[49m\n\u001b[32m    127\u001b[39m \u001b[43m        \u001b[49m\u001b[43mname\u001b[49m\u001b[43m=\u001b[49m\u001b[33;43mf\u001b[39;49m\u001b[33;43m\"\u001b[39;49m\u001b[38;5;132;43;01m{\u001b[39;49;00m\u001b[38;5;28;43mself\u001b[39;49m\u001b[43m.\u001b[49m\u001b[43mname\u001b[49m\u001b[38;5;132;43;01m}\u001b[39;49;00m\u001b[33;43m/\u001b[39;49m\u001b[38;5;132;43;01m{\u001b[39;49;00m\u001b[43mdataframe_name\u001b[49m\u001b[38;5;132;43;01m}\u001b[39;49;00m\u001b[33;43m\"\u001b[39;49m\u001b[43m,\u001b[49m\n\u001b[32m    128\u001b[39m \u001b[43m        \u001b[49m\u001b[43mread_only\u001b[49m\u001b[43m=\u001b[49m\u001b[38;5;28;43mself\u001b[39;49m\u001b[43m.\u001b[49m\u001b[43mread_only\u001b[49m\u001b[43m,\u001b[49m\n\u001b[32m    129\u001b[39m \u001b[43m        \u001b[49m\u001b[43mtruncate\u001b[49m\u001b[43m=\u001b[49m\u001b[38;5;28;43mself\u001b[39;49m\u001b[43m.\u001b[49m\u001b[43mtruncate\u001b[49m\u001b[43m,\u001b[49m\n\u001b[32m    130\u001b[39m \u001b[43m    \u001b[49m\u001b[43m)\u001b[49m\n\u001b[32m    131\u001b[39m     \u001b[38;5;28mobject\u001b[39m.\u001b[34m__setattr__\u001b[39m(\u001b[38;5;28mself\u001b[39m, dataframe_name, dataframe)\n",
      "\u001b[36mFile \u001b[39m\u001b[32m~/miniconda3/envs/alpha-rs/lib/python3.11/site-packages/alphabase/io/hdf.py:109\u001b[39m, in \u001b[36mHDF_Group.__init__\u001b[39m\u001b[34m(self, file_name, name, read_only, truncate)\u001b[39m\n\u001b[32m    102\u001b[39m \u001b[38;5;28msuper\u001b[39m().\u001b[34m__init__\u001b[39m(\n\u001b[32m    103\u001b[39m     file_name=file_name,\n\u001b[32m    104\u001b[39m     name=name,\n\u001b[32m    105\u001b[39m     read_only=read_only,\n\u001b[32m    106\u001b[39m     truncate=truncate,\n\u001b[32m    107\u001b[39m )\n\u001b[32m    108\u001b[39m \u001b[38;5;28;01mfor\u001b[39;00m dataset_name \u001b[38;5;129;01min\u001b[39;00m \u001b[38;5;28mself\u001b[39m.dataset_names:\n\u001b[32m--> \u001b[39m\u001b[32m109\u001b[39m     dataset = \u001b[43mHDF_Dataset\u001b[49m\u001b[43m(\u001b[49m\n\u001b[32m    110\u001b[39m \u001b[43m        \u001b[49m\u001b[43mfile_name\u001b[49m\u001b[43m=\u001b[49m\u001b[38;5;28;43mself\u001b[39;49m\u001b[43m.\u001b[49m\u001b[43mfile_name\u001b[49m\u001b[43m,\u001b[49m\n\u001b[32m    111\u001b[39m \u001b[43m        \u001b[49m\u001b[43mname\u001b[49m\u001b[43m=\u001b[49m\u001b[33;43mf\u001b[39;49m\u001b[33;43m\"\u001b[39;49m\u001b[38;5;132;43;01m{\u001b[39;49;00m\u001b[38;5;28;43mself\u001b[39;49m\u001b[43m.\u001b[49m\u001b[43mname\u001b[49m\u001b[38;5;132;43;01m}\u001b[39;49;00m\u001b[33;43m/\u001b[39;49m\u001b[38;5;132;43;01m{\u001b[39;49;00m\u001b[43mdataset_name\u001b[49m\u001b[38;5;132;43;01m}\u001b[39;49;00m\u001b[33;43m\"\u001b[39;49m\u001b[43m,\u001b[49m\n\u001b[32m    112\u001b[39m \u001b[43m        \u001b[49m\u001b[43mread_only\u001b[49m\u001b[43m=\u001b[49m\u001b[38;5;28;43mself\u001b[39;49m\u001b[43m.\u001b[49m\u001b[43mread_only\u001b[49m\u001b[43m,\u001b[49m\n\u001b[32m    113\u001b[39m \u001b[43m        \u001b[49m\u001b[43mtruncate\u001b[49m\u001b[43m=\u001b[49m\u001b[38;5;28;43mself\u001b[39;49m\u001b[43m.\u001b[49m\u001b[43mtruncate\u001b[49m\u001b[43m,\u001b[49m\n\u001b[32m    114\u001b[39m \u001b[43m    \u001b[49m\u001b[43m)\u001b[49m\n\u001b[32m    115\u001b[39m     \u001b[38;5;28mobject\u001b[39m.\u001b[34m__setattr__\u001b[39m(\u001b[38;5;28mself\u001b[39m, dataset_name, dataset)\n\u001b[32m    116\u001b[39m \u001b[38;5;28;01mfor\u001b[39;00m group_name \u001b[38;5;129;01min\u001b[39;00m \u001b[38;5;28mself\u001b[39m.group_names:\n",
      "\u001b[36mFile \u001b[39m\u001b[32m~/miniconda3/envs/alpha-rs/lib/python3.11/site-packages/alphabase/io/hdf.py:315\u001b[39m, in \u001b[36mHDF_Dataset.__init__\u001b[39m\u001b[34m(self, file_name, name, read_only, truncate)\u001b[39m\n\u001b[32m    307\u001b[39m \u001b[38;5;28;01mdef\u001b[39;00m\u001b[38;5;250m \u001b[39m\u001b[34m__init__\u001b[39m(\n\u001b[32m    308\u001b[39m     \u001b[38;5;28mself\u001b[39m,\n\u001b[32m    309\u001b[39m     *,\n\u001b[32m   (...)\u001b[39m\u001b[32m    313\u001b[39m     truncate: \u001b[38;5;28mbool\u001b[39m = \u001b[38;5;28;01mFalse\u001b[39;00m,\n\u001b[32m    314\u001b[39m ):\n\u001b[32m--> \u001b[39m\u001b[32m315\u001b[39m     \u001b[38;5;28;43msuper\u001b[39;49m\u001b[43m(\u001b[49m\u001b[43m)\u001b[49m\u001b[43m.\u001b[49m\u001b[34;43m__init__\u001b[39;49m\u001b[43m(\u001b[49m\n\u001b[32m    316\u001b[39m \u001b[43m        \u001b[49m\u001b[43mfile_name\u001b[49m\u001b[43m=\u001b[49m\u001b[43mfile_name\u001b[49m\u001b[43m,\u001b[49m\n\u001b[32m    317\u001b[39m \u001b[43m        \u001b[49m\u001b[43mname\u001b[49m\u001b[43m=\u001b[49m\u001b[43mname\u001b[49m\u001b[43m,\u001b[49m\n\u001b[32m    318\u001b[39m \u001b[43m        \u001b[49m\u001b[43mread_only\u001b[49m\u001b[43m=\u001b[49m\u001b[43mread_only\u001b[49m\u001b[43m,\u001b[49m\n\u001b[32m    319\u001b[39m \u001b[43m        \u001b[49m\u001b[43mtruncate\u001b[49m\u001b[43m=\u001b[49m\u001b[43mtruncate\u001b[49m\u001b[43m,\u001b[49m\n\u001b[32m    320\u001b[39m \u001b[43m    \u001b[49m\u001b[43m)\u001b[49m\n\u001b[32m    321\u001b[39m     \u001b[38;5;28mobject\u001b[39m.\u001b[34m__setattr__\u001b[39m(\u001b[38;5;28mself\u001b[39m, \u001b[33m\"\u001b[39m\u001b[33mmmap_name\u001b[39m\u001b[33m\"\u001b[39m, \u001b[33mf\u001b[39m\u001b[33m\"\u001b[39m\u001b[38;5;132;01m{\u001b[39;00m\u001b[38;5;28mself\u001b[39m.name\u001b[38;5;132;01m}\u001b[39;00m\u001b[33m_mmap\u001b[39m\u001b[33m\"\u001b[39m)\n\u001b[32m    322\u001b[39m     \u001b[38;5;28;01mwith\u001b[39;00m h5py.File(\u001b[38;5;28mself\u001b[39m.file_name, \u001b[33m\"\u001b[39m\u001b[33mr\u001b[39m\u001b[33m\"\u001b[39m) \u001b[38;5;28;01mas\u001b[39;00m hdf_file:\n",
      "\u001b[36mFile \u001b[39m\u001b[32m~/miniconda3/envs/alpha-rs/lib/python3.11/site-packages/alphabase/io/hdf.py:64\u001b[39m, in \u001b[36mHDF_Object.__init__\u001b[39m\u001b[34m(self, file_name, name, read_only, truncate)\u001b[39m\n\u001b[32m     62\u001b[39m \u001b[38;5;28mobject\u001b[39m.\u001b[34m__setattr__\u001b[39m(\u001b[38;5;28mself\u001b[39m, \u001b[33m\"\u001b[39m\u001b[33m_name\u001b[39m\u001b[33m\"\u001b[39m, name)\n\u001b[32m     63\u001b[39m \u001b[38;5;28;01mfor\u001b[39;00m key, value \u001b[38;5;129;01min\u001b[39;00m \u001b[38;5;28mself\u001b[39m.metadata.items():\n\u001b[32m---> \u001b[39m\u001b[32m64\u001b[39m     \u001b[38;5;28;43mobject\u001b[39;49m\u001b[43m.\u001b[49m\u001b[34;43m__setattr__\u001b[39;49m\u001b[43m(\u001b[49m\u001b[38;5;28;43mself\u001b[39;49m\u001b[43m,\u001b[49m\u001b[43m \u001b[49m\u001b[43mkey\u001b[49m\u001b[43m,\u001b[49m\u001b[43m \u001b[49m\u001b[43mvalue\u001b[49m\u001b[43m)\u001b[49m\n",
      "\u001b[31mAttributeError\u001b[39m: property 'name' of 'HDF_Dataset' object has no setter"
     ]
    }
   ],
   "source": [
    "from alpharaw.ms_data_base import MSData_Base\n",
    "\n",
    "dia_data = MSData_Base()\n",
    "dia_data.load_hdf('/Users/georgwallmann/Documents/data/alphadia/20205_05_04_chiron/raw_data/sciex/2025031_Evo012_32p5min_Whisper40_Elite.hdf')\n"
   ]
  },
  {
   "cell_type": "code",
   "execution_count": 7,
   "metadata": {},
   "outputs": [
    {
     "name": "stdout",
     "output_type": "stream",
     "text": [
      "301\n"
     ]
    }
   ],
   "source": [
    "cycle_len = 301\n",
    "delta_scan_idx = np.tile(np.arange(cycle_len), int(len(dia_data.spectrum_df) / cycle_len + 1 ))\n",
    "cycle_idx = np.repeat(np.arange(int(len(dia_data.spectrum_df) / cycle_len + 1 )), cycle_len)\n",
    "\n",
    "dia_data.spectrum_df['delta_scan_idx'] = delta_scan_idx[:len(dia_data.spectrum_df)]\n",
    "dia_data.spectrum_df['cycle_idx'] = cycle_idx[:len(dia_data.spectrum_df)]\n",
    "print(cycle_len)"
   ]
  },
  {
   "cell_type": "code",
   "execution_count": 32,
   "metadata": {},
   "outputs": [],
   "source": [
    "\n",
    "# store dia_data.spectrum_df to tmp_folder as parquet\n",
    "dia_data.spectrum_df.to_parquet(os.path.join(tmp_folder, 'spectrum_df.parquet'))\n",
    "dia_data.peak_df.to_parquet(os.path.join(tmp_folder, 'peak_df.parquet'))"
   ]
  },
  {
   "cell_type": "code",
   "execution_count": 9,
   "metadata": {},
   "outputs": [],
   "source": [
    "\n",
    "import alpha_rs\n",
    "\n",
    "rs_data = alpha_rs.test_xic_index(\n",
    "    dia_data.spectrum_df['delta_scan_idx'].values,\n",
    "    dia_data.spectrum_df['isolation_lower_mz'].values.astype(np.float32),\n",
    "    dia_data.spectrum_df['isolation_upper_mz'].values.astype(np.float32),\n",
    "    dia_data.spectrum_df['peak_start_idx'].values,\n",
    "    dia_data.spectrum_df['peak_stop_idx'].values,\n",
    "    dia_data.spectrum_df['cycle_idx'].values,\n",
    "    dia_data.spectrum_df['rt'].values.astype(np.float32),\n",
    "    dia_data.peak_df['mz'].values.astype(np.float32),\n",
    "    dia_data.peak_df['intensity'].values.astype(np.float32)\n",
    ")"
   ]
  },
  {
   "cell_type": "code",
   "execution_count": 25,
   "metadata": {},
   "outputs": [
    {
     "data": {
      "text/plain": [
       "10"
      ]
     },
     "execution_count": 25,
     "metadata": {},
     "output_type": "execute_result"
    }
   ],
   "source": [
    "lib.num_precursors"
   ]
  },
  {
   "cell_type": "code",
   "execution_count": 29,
   "metadata": {},
   "outputs": [],
   "source": [
    "fwhm_rt = 3\n",
    "kernel_size = 20\n",
    "\n",
    "peak_group_scoring = alpha_rs.PeakGroupScoring(fwhm_rt, kernel_size)"
   ]
  },
  {
   "cell_type": "code",
   "execution_count": 30,
   "metadata": {},
   "outputs": [
    {
     "name": "stdout",
     "output_type": "stream",
     "text": [
      "Precursors per second: 322333.78\n"
     ]
    }
   ],
   "source": [
    "mass_tolerance = 7\n",
    "peak_group_scoring.search(rs_data, lib, mass_tolerance)"
   ]
  },
  {
   "cell_type": "code",
   "execution_count": 13,
   "metadata": {},
   "outputs": [
    {
     "name": "stdout",
     "output_type": "stream",
     "text": [
      "(20,)\n"
     ]
    },
    {
     "data": {
      "image/png": "[encoded data removed]",
      "text/plain": [
       "<Figure size 640x480 with 1 Axes>"
      ]
     },
     "metadata": {},
     "output_type": "display_data"
    }
   ],
   "source": [
    "import matplotlib.pyplot as plt\n",
    "\n",
    "kernel_path = '/Users/georgwallmann/Documents/data/alpha-rs/kernel.npz'\n",
    "array = np.load(kernel_path)['kernel']\n",
    "print(array.shape)\n",
    "plt.plot(array)\n",
    "plt.show()"
   ]
  },
  {
   "cell_type": "code",
   "execution_count": 14,
   "metadata": {},
   "outputs": [],
   "source": [
    "path = '/Users/georgwallmann/Documents/data/alpha-rs/dense_xic.npz'"
   ]
  },
  {
   "cell_type": "code",
   "execution_count": 15,
   "metadata": {},
   "outputs": [
    {
     "data": {
      "text/plain": [
       "(10, 806)"
      ]
     },
     "execution_count": 15,
     "metadata": {},
     "output_type": "execute_result"
    }
   ],
   "source": [
    "array = np.load(path)['dense_xic']\n",
    "array.shape"
   ]
  },
  {
   "cell_type": "code",
   "execution_count": 17,
   "metadata": {},
   "outputs": [
    {
     "data": {
      "image/png": "[encoded data removed]",
      "text/plain": [
       "<Figure size 1000x500 with 1 Axes>"
      ]
     },
     "metadata": {},
     "output_type": "display_data"
    }
   ],
   "source": [
    "from matplotlib import pyplot as plt\n",
    "fig, ax = plt.subplots(figsize=(10, 5))\n",
    "for i in range(array.shape[0]):\n",
    "    ax.plot(array[i])\n",
    "plt.show()\n"
   ]
  },
  {
   "cell_type": "code",
   "execution_count": 10,
   "metadata": {},
   "outputs": [
    {
     "data": {
      "text/html": [
       "<div>\n",
       "<style scoped>\n",
       "    .dataframe tbody tr th:only-of-type {\n",
       "        vertical-align: middle;\n",
       "    }\n",
       "\n",
       "    .dataframe tbody tr th {\n",
       "        vertical-align: top;\n",
       "    }\n",
       "\n",
       "    .dataframe thead th {\n",
       "        text-align: right;\n",
       "    }\n",
       "</style>\n",
       "<table border=\"1\" class=\"dataframe\">\n",
       "  <thead>\n",
       "    <tr style=\"text-align: right;\">\n",
       "      <th></th>\n",
       "      <th>intensity</th>\n",
       "      <th>mz</th>\n",
       "    </tr>\n",
       "  </thead>\n",
       "  <tbody>\n",
       "    <tr>\n",
       "      <th>0</th>\n",
       "      <td>7152.893066</td>\n",
       "      <td>413.284882</td>\n",
       "    </tr>\n",
       "    <tr>\n",
       "      <th>1</th>\n",
       "      <td>7339.181641</td>\n",
       "      <td>461.691620</td>\n",
       "    </tr>\n",
       "    <tr>\n",
       "      <th>2</th>\n",
       "      <td>8405.365234</td>\n",
       "      <td>479.127350</td>\n",
       "    </tr>\n",
       "    <tr>\n",
       "      <th>3</th>\n",
       "      <td>7875.626953</td>\n",
       "      <td>486.764893</td>\n",
       "    </tr>\n",
       "    <tr>\n",
       "      <th>4</th>\n",
       "      <td>7765.384766</td>\n",
       "      <td>495.953583</td>\n",
       "    </tr>\n",
       "    <tr>\n",
       "      <th>...</th>\n",
       "      <td>...</td>\n",
       "      <td>...</td>\n",
       "    </tr>\n",
       "    <tr>\n",
       "      <th>155906486</th>\n",
       "      <td>347.197144</td>\n",
       "      <td>867.576721</td>\n",
       "    </tr>\n",
       "    <tr>\n",
       "      <th>155906487</th>\n",
       "      <td>249.008377</td>\n",
       "      <td>875.574829</td>\n",
       "    </tr>\n",
       "    <tr>\n",
       "      <th>155906488</th>\n",
       "      <td>388.607117</td>\n",
       "      <td>1288.736450</td>\n",
       "    </tr>\n",
       "    <tr>\n",
       "      <th>155906489</th>\n",
       "      <td>181.067413</td>\n",
       "      <td>1454.766968</td>\n",
       "    </tr>\n",
       "    <tr>\n",
       "      <th>155906490</th>\n",
       "      <td>1636.907471</td>\n",
       "      <td>1561.648071</td>\n",
       "    </tr>\n",
       "  </tbody>\n",
       "</table>\n",
       "<p>155906491 rows × 2 columns</p>\n",
       "</div>"
      ],
      "text/plain": [
       "             intensity           mz\n",
       "0          7152.893066   413.284882\n",
       "1          7339.181641   461.691620\n",
       "2          8405.365234   479.127350\n",
       "3          7875.626953   486.764893\n",
       "4          7765.384766   495.953583\n",
       "...                ...          ...\n",
       "155906486   347.197144   867.576721\n",
       "155906487   249.008377   875.574829\n",
       "155906488   388.607117  1288.736450\n",
       "155906489   181.067413  1454.766968\n",
       "155906490  1636.907471  1561.648071\n",
       "\n",
       "[155906491 rows x 2 columns]"
      ]
     },
     "execution_count": 10,
     "metadata": {},
     "output_type": "execute_result"
    }
   ],
   "source": [
    "dia_data.peak_df"
   ]
  },
  {
   "cell_type": "code",
   "execution_count": 14,
   "metadata": {},
   "outputs": [
    {
     "data": {
      "text/plain": [
       "[<matplotlib.lines.Line2D at 0x2c7ba9550>]"
      ]
     },
     "execution_count": 14,
     "metadata": {},
     "output_type": "execute_result"
    },
    {
     "data": {
      "image/png": "[encoded data removed]",
      "text/plain": [
       "<Figure size 640x480 with 1 Axes>"
      ]
     },
     "metadata": {},
     "output_type": "display_data"
    }
   ],
   "source": [
    "import matplotlib.pyplot as plt\n",
    "\n",
    "plt.plot(hist)"
   ]
  },
  {
   "cell_type": "code",
   "execution_count": null,
   "metadata": {},
   "outputs": [],
   "source": []
  }
 ],
 "metadata": {
  "kernelspec": {
   "display_name": "alpha-rs",
   "language": "python",
   "name": "python3"
  },
  "language_info": {
   "codemirror_mode": {
    "name": "ipython",
    "version": 3
   },
   "file_extension": ".py",
   "mimetype": "text/x-python",
   "name": "python",
   "nbconvert_exporter": "python",
   "pygments_lexer": "ipython3",
   "version": "3.11.11"
  }
 },
 "nbformat": 4,
 "nbformat_minor": 2
}
